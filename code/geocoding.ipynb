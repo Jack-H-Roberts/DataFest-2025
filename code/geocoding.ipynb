{
 "cells": [
  {
   "cell_type": "code",
   "execution_count": null,
   "metadata": {},
   "outputs": [],
   "source": [
    "import pandas as pd\n",
    "from geopy.geocoders import MapBox\n",
    "from tqdm.auto import tqdm\n",
    "\n",
    "tqdm.pandas()\n",
    "\n",
    "geolocator = MapBox(api_key=\"\")\n",
    "\n",
    "leases = pd.read_csv(\"Leases.csv\")\n",
    "\n",
    "full_addresses = (\n",
    "    leases[\"address\"]\n",
    "    + \", \"\n",
    "    + leases[\"city\"]\n",
    "    + \", \"\n",
    "    + leases[\"state\"]\n",
    "    + \" \"\n",
    "    + leases[\"zip\"].apply(lambda x: str(int(x)) if pd.notna(x) else \"\")\n",
    ")\n",
    "\n",
    "address_info = pd.DataFrame.from_dict(\n",
    "    {\"id\": leases[\"building_id\"], \"address\": full_addresses}\n",
    ").drop_duplicates()"
   ]
  },
  {
   "cell_type": "code",
   "execution_count": 16,
   "metadata": {},
   "outputs": [
    {
     "name": "stderr",
     "output_type": "stream",
     "text": [
      "100%|██████████| 21077/21077 [45:29<00:00,  7.72it/s] \n"
     ]
    }
   ],
   "source": [
    "def geocode(address):\n",
    "  location = geolocator.geocode(address, exactly_one=True)\n",
    "  if location is None:\n",
    "    return pd.Series([None, None])\n",
    "\n",
    "  return pd.Series([location.latitude, location.longitude])\n",
    "\n",
    "address_info[['latitude', 'longitude']] = address_info['address'].progress_apply(lambda x: geocode(x))\n",
    "\n",
    "address_info.to_csv('address_info.csv')"
   ]
  },
  {
   "cell_type": "code",
   "execution_count": 11,
   "metadata": {},
   "outputs": [
    {
     "data": {
      "text/html": [
       "<div>\n",
       "<style scoped>\n",
       "    .dataframe tbody tr th:only-of-type {\n",
       "        vertical-align: middle;\n",
       "    }\n",
       "\n",
       "    .dataframe tbody tr th {\n",
       "        vertical-align: top;\n",
       "    }\n",
       "\n",
       "    .dataframe thead th {\n",
       "        text-align: right;\n",
       "    }\n",
       "</style>\n",
       "<table border=\"1\" class=\"dataframe\">\n",
       "  <thead>\n",
       "    <tr style=\"text-align: right;\">\n",
       "      <th></th>\n",
       "      <th>id</th>\n",
       "      <th>address</th>\n",
       "      <th>latitude</th>\n",
       "      <th>longitude</th>\n",
       "    </tr>\n",
       "  </thead>\n",
       "  <tbody>\n",
       "    <tr>\n",
       "      <th>0</th>\n",
       "      <td>Atlanta_Central Perimeter_Atlanta_10 Glenlake ...</td>\n",
       "      <td>10 Glenlake Pky NE, Atlanta, GA 30328</td>\n",
       "      <td>33.936269</td>\n",
       "      <td>-84.361239</td>\n",
       "    </tr>\n",
       "    <tr>\n",
       "      <th>1</th>\n",
       "      <td>Atlanta_Northwest_Atlanta_100 City View_3330 C...</td>\n",
       "      <td>3330 Cumberland Blvd, Atlanta, GA 30339</td>\n",
       "      <td>33.873792</td>\n",
       "      <td>-84.458516</td>\n",
       "    </tr>\n",
       "    <tr>\n",
       "      <th>2</th>\n",
       "      <td>Atlanta_Northwest_Atlanta_1000 Parkwood_1000 P...</td>\n",
       "      <td>1000 Parkwood Cir SE, Atlanta, GA 30339</td>\n",
       "      <td>33.901861</td>\n",
       "      <td>-84.459599</td>\n",
       "    </tr>\n",
       "    <tr>\n",
       "      <th>3</th>\n",
       "      <td>Atlanta_Northwest_Atlanta_1100 Circle 75_1100 ...</td>\n",
       "      <td>1100 Circle 75 Pky SE, Atlanta, GA 30339</td>\n",
       "      <td>33.889732</td>\n",
       "      <td>-84.465435</td>\n",
       "    </tr>\n",
       "    <tr>\n",
       "      <th>4</th>\n",
       "      <td>Atlanta_Central Perimeter_Atlanta_1200 Ashwood...</td>\n",
       "      <td>1200 Ashwood Pky, Atlanta, GA 30338</td>\n",
       "      <td>33.933749</td>\n",
       "      <td>-84.340570</td>\n",
       "    </tr>\n",
       "  </tbody>\n",
       "</table>\n",
       "</div>"
      ],
      "text/plain": [
       "                                                  id  \\\n",
       "0  Atlanta_Central Perimeter_Atlanta_10 Glenlake ...   \n",
       "1  Atlanta_Northwest_Atlanta_100 City View_3330 C...   \n",
       "2  Atlanta_Northwest_Atlanta_1000 Parkwood_1000 P...   \n",
       "3  Atlanta_Northwest_Atlanta_1100 Circle 75_1100 ...   \n",
       "4  Atlanta_Central Perimeter_Atlanta_1200 Ashwood...   \n",
       "\n",
       "                                    address   latitude  longitude  \n",
       "0     10 Glenlake Pky NE, Atlanta, GA 30328  33.936269 -84.361239  \n",
       "1   3330 Cumberland Blvd, Atlanta, GA 30339  33.873792 -84.458516  \n",
       "2   1000 Parkwood Cir SE, Atlanta, GA 30339  33.901861 -84.459599  \n",
       "3  1100 Circle 75 Pky SE, Atlanta, GA 30339  33.889732 -84.465435  \n",
       "4       1200 Ashwood Pky, Atlanta, GA 30338  33.933749 -84.340570  "
      ]
     },
     "execution_count": 11,
     "metadata": {},
     "output_type": "execute_result"
    }
   ],
   "source": [
    "address_info"
   ]
  }
 ],
 "metadata": {
  "kernelspec": {
   "display_name": "datafest-YoeRoYVK-py3.11",
   "language": "python",
   "name": "python3"
  },
  "language_info": {
   "codemirror_mode": {
    "name": "ipython",
    "version": 3
   },
   "file_extension": ".py",
   "mimetype": "text/x-python",
   "name": "python",
   "nbconvert_exporter": "python",
   "pygments_lexer": "ipython3",
   "version": "3.11.6"
  }
 },
 "nbformat": 4,
 "nbformat_minor": 2
}
